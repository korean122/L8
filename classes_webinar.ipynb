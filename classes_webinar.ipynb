{
  "nbformat": 4,
  "nbformat_minor": 0,
  "metadata": {
    "colab": {
      "name": "classes_webinar.ipynb",
      "provenance": [],
      "collapsed_sections": []
    },
    "kernelspec": {
      "name": "python3",
      "display_name": "Python 3"
    },
    "language_info": {
      "name": "python"
    }
  },
  "cells": [
    {
      "cell_type": "markdown",
      "metadata": {
        "id": "2GW4GyRmnUCg"
      },
      "source": [
        "Классы в Python\n",
        "вебинар"
      ]
    },
    {
      "cell_type": "markdown",
      "metadata": {
        "id": "v7HyxiGVvSuD"
      },
      "source": [
        "Иногда возникает необходимость объявить внутри класса обычную функцию.\n",
        "Тогда:\n",
        "@staticmethod\n",
        "def method_static(a, b, c):"
      ]
    },
    {
      "cell_type": "code",
      "metadata": {
        "id": "cfDodhHwnTmw"
      },
      "source": [
        "class AnyName:\n",
        "  def method_1(self):\n",
        "    self.currency = 'eur'\n",
        "    self._abc = 123 #одинарное нижнее подчеркивание указывает что переменную крайне нежелательно переобъявлять извне\n",
        "    self.__secret = 456 #двойное нижнее подчеркивание скрывает атрибут и его даже нельзя вызвать описав напрямую. Атрибут не виден извне, а при попытки прямого вызова - появится ошибка. Приватные атрибуты.\n",
        "  def method_2(self):\n",
        "    print(self.currency)"
      ],
      "execution_count": null,
      "outputs": []
    },
    {
      "cell_type": "code",
      "metadata": {
        "id": "HYn7_qEbxbph"
      },
      "source": [
        "#Для того чтобы не испытывать проблем с последовательностью объевления методов. Атрибуты принято переносить в отдельную функцию именуемую __init__\n",
        "#Этот метод инициализируется при запусе класса.\n",
        "class AnyName:\n",
        "  def __init__(self):\n",
        "    self.currency = 'eur'\n",
        "    self._abc = 123 #одинарное нижнее подчеркивание указывает что переменную крайне нежелательно переобъявлять извне\n",
        "    self.__secret = 456 #двойное нижнее подчеркивание скрывает атрибут и его даже нельзя вызвать описав напрямую. Атрибут не виден извне, а при попытки прямого вызова - появится ошибка. Приватные атрибуты.\n",
        "  \n",
        "  def method_1(self):\n",
        "   \n",
        "  def method_2(self):\n",
        "    print(self.currency)"
      ],
      "execution_count": null,
      "outputs": []
    },
    {
      "cell_type": "code",
      "metadata": {
        "id": "szgzjE91v4mx"
      },
      "source": [
        "a = AnyName()"
      ],
      "execution_count": null,
      "outputs": []
    },
    {
      "cell_type": "code",
      "metadata": {
        "id": "CYnI8W0BwAv5"
      },
      "source": [
        "a.method_1()"
      ],
      "execution_count": null,
      "outputs": []
    },
    {
      "cell_type": "code",
      "metadata": {
        "colab": {
          "base_uri": "https://localhost:8080/",
          "height": 35
        },
        "id": "-y3hfXPKwL3Z",
        "outputId": "54b93ffb-cdd7-424f-e962-848e2744f25b"
      },
      "source": [
        "a.currency"
      ],
      "execution_count": null,
      "outputs": [
        {
          "output_type": "execute_result",
          "data": {
            "application/vnd.google.colaboratory.intrinsic+json": {
              "type": "string"
            },
            "text/plain": [
              "'eur'"
            ]
          },
          "metadata": {
            "tags": []
          },
          "execution_count": 6
        }
      ]
    },
    {
      "cell_type": "code",
      "metadata": {
        "id": "VelpYALWBXE7"
      },
      "source": [
        "#**args\n",
        "class ExampleClass:\n",
        "  def __init__(self, **args):\n",
        "    for num in args\n",
        "      print(num)"
      ],
      "execution_count": null,
      "outputs": []
    },
    {
      "cell_type": "code",
      "metadata": {
        "id": "9-EJ0zOuBs5g"
      },
      "source": [
        "a = ExampleClass(1, 2, 3) #классические позиционные переменные, зависят от своей позиции (положения)"
      ],
      "execution_count": null,
      "outputs": []
    },
    {
      "cell_type": "code",
      "metadata": {
        "id": "u6vHZ2_VC043"
      },
      "source": [
        "#**args\n",
        "class ExampleClass:\n",
        "  def __init__(self, **args):\n",
        "    for num in enumerate(args):\n",
        "      print(num)"
      ],
      "execution_count": null,
      "outputs": []
    },
    {
      "cell_type": "code",
      "metadata": {
        "id": "Nx3oz8NwCJ3Y"
      },
      "source": [
        "a = ExampleClass('Moscow', 'Novorossisk', 'Uhta') #Можно списком []"
      ],
      "execution_count": null,
      "outputs": []
    },
    {
      "cell_type": "code",
      "metadata": {
        "id": "W8LMEkCPweDK"
      },
      "source": [
        "#**kwargs\n",
        "class ExampleClass:\n",
        "  def __init__(self, **kwargs):"
      ],
      "execution_count": null,
      "outputs": []
    },
    {
      "cell_type": "code",
      "metadata": {
        "id": "3RFgSuxxDQof"
      },
      "source": [
        "a = ExampleClass (counter=123, date_1='2021-01-01', date_2='2021-01-10', accuracy=1.0) #Независимо от позиции значений **kwargs создается словарь к которому можно обращаться поименовано"
      ],
      "execution_count": null,
      "outputs": []
    },
    {
      "cell_type": "code",
      "metadata": {
        "id": "0Nuoh51ND8bo"
      },
      "source": [
        "#Например:\n",
        "import requests\n",
        "class ExampleClass:\n",
        "  def __init__(self, **kwargs):\n",
        "    print(kwargs)\n",
        "    requests.get(URL,params=kwargs)"
      ],
      "execution_count": null,
      "outputs": []
    },
    {
      "cell_type": "code",
      "metadata": {
        "id": "ZsRf6x3bEvxV"
      },
      "source": [
        "a = ExampleClass (counter=123, date_1='2021-01-01', date_2='2021-01-10', accuracy=1.0) #Независимо от позиции значений **kwargs создается словарь к которому можно обращаться"
      ],
      "execution_count": null,
      "outputs": []
    },
    {
      "cell_type": "markdown",
      "metadata": {
        "id": "piZpDsZ4FHd0"
      },
      "source": [
        "**ФАБРИКА**"
      ]
    },
    {
      "cell_type": "markdown",
      "metadata": {
        "id": "Zm8Uz0dQFM-s"
      },
      "source": [
        "Допустим вы хотите систему отчетност и на основани SQL запросов."
      ]
    },
    {
      "cell_type": "code",
      "metadata": {
        "id": "prUIezn6FMMk"
      },
      "source": [
        "def sql_request('select * from table...'):\n",
        "def calculate_metrics('вычислительная магия')\n",
        "def publish('report.csv')\n",
        "#сюда изменения вывода.\n",
        "#атрибуты методов публикуются как таблицы"
      ],
      "execution_count": null,
      "outputs": []
    },
    {
      "cell_type": "markdown",
      "metadata": {
        "id": "VpZE-hk2FroU"
      },
      "source": [
        "Если таких отчетов будет много то лучше сделать наоборот. "
      ]
    },
    {
      "cell_type": "code",
      "metadata": {
        "id": "5EXniZgYFx7k"
      },
      "source": [
        "class Fabrik:\n",
        "  def sql_request('select * from table...'):\n",
        "  def calculate_metrics('вычислительная магия')\n",
        "  def publish('report.csv')"
      ],
      "execution_count": null,
      "outputs": []
    },
    {
      "cell_type": "code",
      "metadata": {
        "id": "x2xMmmyUF-kL"
      },
      "source": [
        "class TrafficReport(Fabrik):\n",
        "  def calculate_metrics(self):\n",
        "    self.traffic_source='отдельное вычисление'"
      ],
      "execution_count": null,
      "outputs": []
    },
    {
      "cell_type": "code",
      "metadata": {
        "id": "TIVCh7KWGWWZ"
      },
      "source": [
        "class FinanceReport(Fabrik):\n",
        "  def calculate_metrics(self):\n",
        "    self.revenue = 'вычисление'\n",
        "    self.cost='другое вычисление'"
      ],
      "execution_count": null,
      "outputs": []
    },
    {
      "cell_type": "code",
      "metadata": {
        "id": "z2vqQyqWG2ih"
      },
      "source": [
        "class TrafficFinanceReport(Composition(TrafficReport, FinanceReport)) #И автоматически становятся доступными метрики нужных классов\n",
        "  self.traffic_source='отдельное вычисление'\n",
        "  self.revenue = 'вычисление'\n",
        "  self.cost='другое вычисление'"
      ],
      "execution_count": null,
      "outputs": []
    },
    {
      "cell_type": "markdown",
      "metadata": {
        "id": "uruxX6ZIIrDA"
      },
      "source": [
        "**Работа с яндекс.метрикой**"
      ]
    },
    {
      "cell_type": "code",
      "metadata": {
        "id": "21eANfX5Ix1d"
      },
      "source": [
        "import requests"
      ],
      "execution_count": null,
      "outputs": []
    },
    {
      "cell_type": "markdown",
      "metadata": {
        "id": "3bBMRwDqJZ6d"
      },
      "source": [
        "Зачастую данные API закрыты токеном\n",
        "раньше использовали логин пароль, но это было очень рисковано. Часть проблем решалась хэшем, но это тоже не очень хорошо. И решили для каждой задачи генерить приложение, которому дается очень ограниченные права. Дополнительно добавили временные ограничения. \n",
        "\n",
        "Допустим мы хотим выгрузить метрики. Мы заходим на Яндекс OAuth-сервер и создаем приложение. Выбираем название, как авторизоваться и к чему давать доступ. (Лучше всего сначала давать разрешение только на чтение), берем ID и создаем токен\n",
        "Рассмотрим на примере:\n",
        "Нам надо отчет по трафику "
      ]
    },
    {
      "cell_type": "code",
      "metadata": {
        "id": "xuPyk1dkJWjV"
      },
      "source": [
        "API_URL = 'https://api-metrika.yandex.ru/stst/v1/data'\n",
        "METRICA_ROWS_LIMITS = 5\n",
        "DEMO_COUNTER = 41447844"
      ],
      "execution_count": null,
      "outputs": []
    },
    {
      "cell_type": "code",
      "metadata": {
        "id": "fB4iqkocMagA"
      },
      "source": [
        "token = 'вдвлыопдлапо'"
      ],
      "execution_count": null,
      "outputs": []
    },
    {
      "cell_type": "markdown",
      "metadata": {
        "id": "PxHeQXBJM95_"
      },
      "source": [
        "Далее длинный код в лекции."
      ]
    },
    {
      "cell_type": "code",
      "metadata": {
        "id": "a2Dc_reqNCcX"
      },
      "source": [
        "class Metrica:\n",
        "  def __init__(self, token=', и пр.')\n",
        "    нужные переменные\n",
        "    if token:\n",
        "      self.headers = {'autorization': 'OAuth' + token}\n",
        "    else:\n",
        "      self.headers = '' #для демосчетчика заголовок пустой (иначе ошибка)"
      ],
      "execution_count": null,
      "outputs": []
    }
  ]
}