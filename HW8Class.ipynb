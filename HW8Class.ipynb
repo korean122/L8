{
  "nbformat": 4,
  "nbformat_minor": 0,
  "metadata": {
    "colab": {
      "name": "HW8Class.ipynb",
      "provenance": [],
      "collapsed_sections": []
    },
    "kernelspec": {
      "name": "python3",
      "display_name": "Python 3"
    },
    "language_info": {
      "name": "python"
    }
  },
  "cells": [
    {
      "cell_type": "markdown",
      "metadata": {
        "id": "zbypbN0Md9iO"
      },
      "source": [
        "##Задание\n",
        "**Задание 1**\n",
        "Напишите функцию, которая возвращает название валюты (поле ‘Name’) с максимальным значением курса с помощью сервиса www.cbr-xml-daily.ru...ly_json.js"
      ]
    },
    {
      "cell_type": "code",
      "metadata": {
        "id": "0R-KOJsCdzgH"
      },
      "source": [
        "import requests"
      ],
      "execution_count": null,
      "outputs": []
    },
    {
      "cell_type": "code",
      "metadata": {
        "id": "33wFVHXad1Uv"
      },
      "source": [
        "class Rate:\n",
        "    def __init__(self, format_='value'):\n",
        "        self.format = format_\n",
        "    \n",
        "    def exchange_rates(self):\n",
        "        \"\"\"\n",
        "        Возвращает ответ сервиса с информацией о валютах в виде:\n",
        "        \n",
        "        {\n",
        "            'AMD': {\n",
        "                'CharCode': 'AMD',\n",
        "                'ID': 'R01060',\n",
        "                'Name': 'Армянских драмов',\n",
        "                'Nominal': 100,\n",
        "                'NumCode': '051',\n",
        "                'Previous': 14.103,\n",
        "                'Value': 14.0879\n",
        "                },\n",
        "            ...\n",
        "        }\n",
        "        \"\"\"\n",
        "        self.r = requests.get('https://www.cbr-xml-daily.ru/daily_json.js')\n",
        "        return self.r.json()['Valute']\n",
        "    \n",
        "    def make_format(self, currency):\n",
        "        \"\"\"\n",
        "        Возвращает информацию о валюте currency в двух вариантах:\n",
        "        - полная информация о валюте при self.format = 'full':\n",
        "        Rate('full').make_format('EUR')\n",
        "        {\n",
        "            'CharCode': 'EUR',\n",
        "            'ID': 'R01239',\n",
        "            'Name': 'Евро',\n",
        "            'Nominal': 1,\n",
        "            'NumCode': '978',\n",
        "            'Previous': 79.6765,\n",
        "            'Value': 79.4966\n",
        "        }\n",
        "        \n",
        "        Rate('value').make_format('EUR')\n",
        "        79.4966\n",
        "        \"\"\"\n",
        "        response = self.exchange_rates()\n",
        "        \n",
        "        if currency in response:\n",
        "            if self.format == 'full':\n",
        "                return response[currency]\n",
        "            \n",
        "            if self.format == 'value':\n",
        "                return response[currency]['Value']\n",
        "        \n",
        "        return 'Error'\n",
        "    \n",
        "    def eur(self):\n",
        "        \"\"\"Возвращает курс евро на сегодня в формате self.format\"\"\"\n",
        "        return self.make_format('EUR')\n",
        "    \n",
        "    def usd(self):\n",
        "        \"\"\"Возвращает курс доллара на сегодня в формате self.format\"\"\"\n",
        "        return self.make_format('USD')\n",
        "    \n",
        "    def brl(self):\n",
        "        \"\"\"Возвращает курс бразильского реала на сегодня в формате self.format\"\"\"\n",
        "        return self.make_format('BRL')\n",
        "    def max_cource(self):\n",
        "        response = self.exchange_rates()\n",
        "        max_course=0\n",
        "        for row in response.values():\n",
        "            value=row['Value']\n",
        "            if max_course<=value:\n",
        "                max_course=value\n",
        "                name=row['Name']\n",
        "        print(row['Name'], max_course)"
      ],
      "execution_count": null,
      "outputs": []
    },
    {
      "cell_type": "code",
      "metadata": {
        "colab": {
          "base_uri": "https://localhost:8080/"
        },
        "id": "kMX4L64IjTUf",
        "outputId": "b1c1e2d4-dd5b-400a-d73b-2ff21629f00c"
      },
      "source": [
        "Rate().max_cource()"
      ],
      "execution_count": null,
      "outputs": [
        {
          "output_type": "stream",
          "text": [
            "Японских иен 106.0179\n"
          ],
          "name": "stdout"
        }
      ]
    },
    {
      "cell_type": "code",
      "metadata": {
        "id": "-y0ukADwGqG0",
        "colab": {
          "base_uri": "https://localhost:8080/",
          "height": 35
        },
        "outputId": "950311b2-baa9-4458-dacc-d3aaa0cea395"
      },
      "source": [
        "#Преподавадетелм предложено решение задания\n",
        "import requests\n",
        "r = requests.get('https://www.cbr-xml-daily.ru/daily_json.js')\n",
        "\n",
        "datadict = r.json()['Valute']\n",
        "max(datadict.items(), key=lambda x: x[1]['Value'])[1]['Name']"
      ],
      "execution_count": null,
      "outputs": [
        {
          "output_type": "execute_result",
          "data": {
            "application/vnd.google.colaboratory.intrinsic+json": {
              "type": "string"
            },
            "text/plain": [
              "'СДР (специальные права заимствования)'"
            ]
          },
          "metadata": {
            "tags": []
          },
          "execution_count": 5
        }
      ]
    },
    {
      "cell_type": "markdown",
      "metadata": {
        "id": "2PVAMNuXjYSV"
      },
      "source": [
        "**Задание 2**\n",
        "Добавьте в класс Rate параметр diff (со значениями True или False), который в случае значения True в методах курсов валют (eur, usd итд) будет возвращать не курс валюты, а изменение по сравнению в прошлым значением. Считайте, self.diff будет принимать значение True только при возврате значения курса. При отображении всей информации о валюте он не используется."
      ]
    },
    {
      "cell_type": "code",
      "metadata": {
        "id": "YutbE3GIjmoF"
      },
      "source": [
        "class Rate_2(Rate):\n",
        "  def __init__(self, format_='value', check='True'):\n",
        "        super().__init__(format_='value')\n",
        "        self.format = format_\n",
        "        self.check = check  \n",
        "\n",
        "  def diff(self, check):\n",
        "        self.check=check\n",
        "\n",
        "  def check_in(self):\n",
        "        \"\"\"\n",
        "        Проверяет вводные параметры (if format_ = value and diff = True) return True\n",
        "        \"\"\"\n",
        "        if self.format == 'value' and self.diff:\n",
        "            return True\n",
        "        else:\n",
        "            return False\n",
        "\n",
        "  def prev_value(self, currency):\n",
        "        \"\"\"\n",
        "        Возвращает курс на предыдущую дату\n",
        "        \"\"\"\n",
        "        response = self.exchange_rates()\n",
        "        \n",
        "        if currency in response:\n",
        "            return response[currency]['Previous']\n",
        "        return 'Error'\n",
        "  def eur(self):\n",
        "        \"\"\"\n",
        "        Возвращает курс евро на сегодня в формате self.format или\n",
        "        его изменение по сравнению с прошлым значением, если параметр\n",
        "        format_ = value, а diff = True\n",
        "        \"\"\"\n",
        "        if self.check_in():\n",
        "            return round(self.make_format('EUR') - self.prev_value('EUR'), 3)\n",
        "        else:\n",
        "            return self.make_format('EUR')\n",
        "  def usd(self):\n",
        "        \"\"\"\n",
        "        Возвращает курс евро на сегодня в формате self.format или\n",
        "        его изменение по сравнению с прошлым значением, если параметр\n",
        "        format_ = value, а diff = True\n",
        "        \"\"\"\n",
        "        if self.check_in():\n",
        "            return round(self.make_format('USD') - self.prev_value('USD'), 3)        \n",
        "        else:\n",
        "            return self.make_format('USD')"
      ],
      "execution_count": null,
      "outputs": []
    },
    {
      "cell_type": "code",
      "metadata": {
        "colab": {
          "base_uri": "https://localhost:8080/"
        },
        "id": "m3wc62kjkDUs",
        "outputId": "ded3c93e-06d4-4b3e-dd05-261643961f29"
      },
      "source": [
        "Rate_2('value', 'False').eur()"
      ],
      "execution_count": null,
      "outputs": [
        {
          "output_type": "execute_result",
          "data": {
            "text/plain": [
              "-0.636"
            ]
          },
          "metadata": {
            "tags": []
          },
          "execution_count": 16
        }
      ]
    },
    {
      "cell_type": "code",
      "metadata": {
        "colab": {
          "base_uri": "https://localhost:8080/"
        },
        "id": "08IX3nsnlg17",
        "outputId": "f53b294c-1577-47ae-d7f2-ec2313875238"
      },
      "source": [
        "Rate_2('value', 'False').usd()"
      ],
      "execution_count": null,
      "outputs": [
        {
          "output_type": "execute_result",
          "data": {
            "text/plain": [
              "-0.728"
            ]
          },
          "metadata": {
            "tags": []
          },
          "execution_count": 17
        }
      ]
    },
    {
      "cell_type": "markdown",
      "metadata": {
        "id": "NIjLrZJsjlw0"
      },
      "source": [
        "**Задание 3**\n",
        "Напишите класс Designer, который учитывает количество международных премий. Подсказки в коде занятия в разделе “Домашнее задание задача 3”.\n",
        "\n",
        "Комментарий по классу Designer такой:\n",
        "Напишите класс Designer, который учитывает количество международных премий для дизайнеров (из презентации: “Повышение на 1 грейд за каждые 7 баллов. Получение международной премии – это +2 балла”). Считайте, что при выходе на работу сотрудник уже имеет две премии и их количество не меняется со стажем (конечно если хотите это можно вручную менять).\n",
        "\n",
        "Класс Designer пишется по аналогии с классом Developer из материалов занятия."
      ]
    },
    {
      "cell_type": "code",
      "metadata": {
        "id": "2wDR5QeUlmKZ"
      },
      "source": [
        "class Employee:\n",
        "    def __init__(self, name, seniority, awards):\n",
        "        self.name = name\n",
        "        self.seniority = seniority\n",
        "        self.awards= awards\n",
        "        \n",
        "        self.grade = 1\n",
        "    \n",
        "    def grade_up(self):\n",
        "        \"\"\"Повышает уровень сотрудника\"\"\"\n",
        "        self.grade += 1\n",
        "    \n",
        "    def publish_grade(self):\n",
        "        \"\"\"Публикация результатов аккредитации сотрудников\"\"\"\n",
        "        print(self.name, self.grade)\n",
        "class Developer(Employee):\n",
        "    def __init__(self, name, seniority, awards=0):\n",
        "        super().__init__(name, seniority, awards=0)\n",
        "    \n",
        "    def check_if_it_is_time_for_upgrade(self):\n",
        "        # для каждой аккредитации увеличиваем счетчик на 1\n",
        "        # пока считаем, что все разработчики проходят аккредитацию\n",
        "        self.seniority += 1\n",
        "        \n",
        "        # условие повышения сотрудника из презентации\n",
        "        if self.seniority % 5 == 0:\n",
        "            self.grade_up()\n",
        "        \n",
        "        # публикация результатов\n",
        "        return self.publish_grade()"
      ],
      "execution_count": null,
      "outputs": []
    },
    {
      "cell_type": "code",
      "metadata": {
        "id": "5YlkMDyGlq0a"
      },
      "source": [
        "class Designer(Employee):\n",
        "    def __init__(self, name, seniority, awards):\n",
        "        super().__init__(name, seniority, awards)\n",
        "        \n",
        "    def check_if_it_is_time_for_upgrade(self):\n",
        "        if self.seniority==0: \n",
        "            self.seniority=1+self.awards*2\n",
        "        else:\n",
        "            self.seniority+=1\n",
        "        if self.seniority % 7==0:\n",
        "                self.grade_up()\n",
        "        \n",
        "        return self.publish_grade()"
      ],
      "execution_count": null,
      "outputs": []
    },
    {
      "cell_type": "code",
      "metadata": {
        "id": "uecHxcu-ltYz"
      },
      "source": [
        "Aleksandr = Designer('Aleksandr', seniority=0, awards=2)"
      ],
      "execution_count": null,
      "outputs": []
    },
    {
      "cell_type": "code",
      "metadata": {
        "colab": {
          "base_uri": "https://localhost:8080/"
        },
        "id": "aA5C4Mpul0oJ",
        "outputId": "324048de-a69e-49ff-ab4b-70c859a474a3"
      },
      "source": [
        "for i in range(20):\n",
        "    Aleksandr.check_if_it_is_time_for_upgrade()"
      ],
      "execution_count": null,
      "outputs": [
        {
          "output_type": "stream",
          "text": [
            "Aleksandr 1\n",
            "Aleksandr 1\n",
            "Aleksandr 2\n",
            "Aleksandr 2\n",
            "Aleksandr 2\n",
            "Aleksandr 2\n",
            "Aleksandr 2\n",
            "Aleksandr 2\n",
            "Aleksandr 2\n",
            "Aleksandr 3\n",
            "Aleksandr 3\n",
            "Aleksandr 3\n",
            "Aleksandr 3\n",
            "Aleksandr 3\n",
            "Aleksandr 3\n",
            "Aleksandr 3\n",
            "Aleksandr 4\n",
            "Aleksandr 4\n",
            "Aleksandr 4\n",
            "Aleksandr 4\n"
          ],
          "name": "stdout"
        }
      ]
    }
  ]
}