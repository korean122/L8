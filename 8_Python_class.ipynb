{
  "nbformat": 4,
  "nbformat_minor": 0,
  "metadata": {
    "kernelspec": {
      "display_name": "Python 3",
      "language": "python",
      "name": "python3"
    },
    "language_info": {
      "codemirror_mode": {
        "name": "ipython",
        "version": 3
      },
      "file_extension": ".py",
      "mimetype": "text/x-python",
      "name": "python",
      "nbconvert_exporter": "python",
      "pygments_lexer": "ipython3",
      "version": "3.7.0"
    },
    "colab": {
      "name": "8_Python class.ipynb",
      "provenance": [],
      "collapsed_sections": [
        "ATt9HM9ufb3c"
      ]
    }
  },
  "cells": [
    {
      "cell_type": "markdown",
      "metadata": {
        "id": "z6UDDT1Tfb3R"
      },
      "source": [
        "# Что сегодня сделаем\n",
        "Библиотеку для получения курсов валют в 2 строки"
      ]
    },
    {
      "cell_type": "markdown",
      "metadata": {
        "id": "G06HAkK0fmVp"
      },
      "source": [
        "НУЖНЫ ЛИ КЛАССЫ АНАЛИТИКУ?\n",
        "КЛАССЫ и ООП\n",
        "ЗАДАЧА ПОНИМАТЬ УСТРОЙСТВО КЛАССОВ. \n",
        "1. ХОТЯ БЫ В ТОМ КАК ИСПОЛЬЗОВАТЬ РЕЗУЛЬТАТЫ ПРОГРАММ АНАЛИТИКУ\n",
        "2. ТРЕБОВАНИЯ К АНАЛИТИКАМ РАСТУТ\n",
        "\n"
      ]
    },
    {
      "cell_type": "markdown",
      "metadata": {
        "id": "zGgu3MMUh976"
      },
      "source": [
        "Циклы при росте объемов задач растут и для упрощения кода будет проще писать функции.\n",
        "Например:"
      ]
    },
    {
      "cell_type": "code",
      "metadata": {
        "id": "eDQgLOJthm78"
      },
      "source": [
        "#Обычный цикл\n",
        "for record in big_file:\n",
        "  #classify age\n",
        "  if int(record.get('age')) <=18:\n",
        "    age_group = 'children'\n",
        "  elif int(record.get('age')) <=60:\n",
        "    age_group = 'young'\n",
        "  else:\n",
        "    age_group = 'retiree'\n",
        "    #определяем уровень дохода и еще + 100 операций.\n",
        "#Гораздо проще вместо этого написать функцию"
      ],
      "execution_count": null,
      "outputs": []
    },
    {
      "cell_type": "code",
      "metadata": {
        "id": "DYR7DxoJi_Ef"
      },
      "source": [
        "#С функцией объем кода сильно уменьшится классификации возраста\n",
        "for record in big_file:\n",
        "  #классифицируем возраст.\n",
        "  age_group = make_age_group(record.get('age'))"
      ],
      "execution_count": null,
      "outputs": []
    },
    {
      "cell_type": "code",
      "metadata": {
        "id": "y3muVUnlji-3"
      },
      "source": [
        "1. Функции легко тестировать на ошибки.\n",
        "2. Изменяем не затрагивая весь остальной код"
      ],
      "execution_count": null,
      "outputs": []
    },
    {
      "cell_type": "code",
      "metadata": {
        "colab": {
          "base_uri": "https://localhost:8080/"
        },
        "id": "QC2shwuej6LE",
        "outputId": "a0236461-7a01-4204-eea1-f5c5d59dbe62"
      },
      "source": [
        "#задача для разминки. \n",
        "#Дана строка со значениями, которые разделены запятыми.\n",
        "#Напишите функцию, которая считает число столбцов.\n",
        "line = '2019-07-01,organic,4293'\n",
        "def func_(lines):\n",
        "  return len(lines.split(','))"
      ],
      "execution_count": null,
      "outputs": [
        {
          "output_type": "execute_result",
          "data": {
            "text/plain": [
              "3"
            ]
          },
          "metadata": {
            "tags": []
          },
          "execution_count": 8
        }
      ]
    },
    {
      "cell_type": "code",
      "metadata": {
        "colab": {
          "base_uri": "https://localhost:8080/"
        },
        "id": "tBy63aohlUpS",
        "outputId": "6e4355f9-6773-4c77-ad09-6e82f905b14d"
      },
      "source": [
        "#протестируем работу\n",
        "func_(line)"
      ],
      "execution_count": null,
      "outputs": [
        {
          "output_type": "execute_result",
          "data": {
            "text/plain": [
              "3"
            ]
          },
          "metadata": {
            "tags": []
          },
          "execution_count": 11
        }
      ]
    },
    {
      "cell_type": "code",
      "metadata": {
        "id": "l9gmF6E4lxqa"
      },
      "source": [
        "#Если подать в функцию пустую строку она все равно считает что столбец 1\n",
        "#и нам нужно это учесть\n",
        "def func_(lines, count_empty=True):\n",
        "  if count_empty:\n",
        "    return len(lines.split(','))\n",
        "  else:\n",
        "    if line: #значение не пустое\n",
        "      return len(lines.split(','))\n",
        "    else:\n",
        "      return 0"
      ],
      "execution_count": null,
      "outputs": []
    },
    {
      "cell_type": "markdown",
      "metadata": {
        "id": "H7PpijvTmkG5"
      },
      "source": [
        "Функцию можно постоянно дорабатывать с учетом условий, например, добавить определенный разделитель sep..."
      ]
    },
    {
      "cell_type": "markdown",
      "metadata": {
        "id": "23TWT7u3m9l3"
      },
      "source": [
        "Рассмотрим ситуацию когда функций недостаточно."
      ]
    },
    {
      "cell_type": "markdown",
      "metadata": {
        "id": "rDw2bUREnSe3"
      },
      "source": [
        "Например, нам нужен скрипт для получения курса доллара на сегодня"
      ]
    },
    {
      "cell_type": "code",
      "metadata": {
        "id": "JX1KkxlqnYnG"
      },
      "source": [
        "#В самой простой ситуации решение будет довольно простое:\n",
        "import requests\n",
        "full_data = requests.get('https://www.cbr-xml-daily.ru/daily_json.js').json()\n",
        "usd = full_data['Valute']['USD']['Value']"
      ],
      "execution_count": null,
      "outputs": []
    },
    {
      "cell_type": "code",
      "metadata": {
        "id": "zNjx-r0QoG09"
      },
      "source": [
        "#если обернуть это в функцию решение будет примерно таким\n",
        "def usd():\n",
        "  \"\"\"Return USD rate today\"\"\"\n",
        "  full_data = requests.get('https://www.cbr-xml-daily.ru/daily_json.js').json()\n",
        "  return full_data['Valute']['USD']['Value']"
      ],
      "execution_count": null,
      "outputs": []
    },
    {
      "cell_type": "code",
      "metadata": {
        "colab": {
          "base_uri": "https://localhost:8080/"
        },
        "id": "UhYq1nj8omO0",
        "outputId": "ade6e9aa-c66e-4ae8-bb74-8f4fa020b1d5"
      },
      "source": [
        "usd()"
      ],
      "execution_count": null,
      "outputs": [
        {
          "output_type": "execute_result",
          "data": {
            "text/plain": [
              "73.6175"
            ]
          },
          "metadata": {
            "tags": []
          },
          "execution_count": 16
        }
      ]
    },
    {
      "cell_type": "markdown",
      "metadata": {
        "id": "ssa9T58LovTT"
      },
      "source": [
        "А если я хочу получать разные валюты (34) можно завести параметр типа валют в качестве ключа\n",
        "А другой захочет всю информацию о валюте.\n",
        "А если решили автоматизировать. А домен может тормозить и надо переделать и т.д. и т.п.\n",
        "В результате функция разрастается.\n",
        "Если на каждую задачу свою функцию, то будет сто задач - сто функций.\n",
        "И вот тут могут пригодится классы"
      ]
    },
    {
      "cell_type": "markdown",
      "metadata": {
        "id": "iwIBxATEppGL"
      },
      "source": [
        "Если говорить упрощенно, то Класс - это набор объединенных функций.\n",
        "!!!  Функции внутри класса называются методами.\n",
        "1. Если вы объявляете в одном методе внутри класса какую-то переменную self.currency = 'usd', то все методы внутри класса эту переменную будут видеть.\n",
        "2. Наследование. Если ваш класс кому-то нужен, им не нужно копировать его в свой код. Можно просто сослаться на этот класс в качестве параметра другого класса\n",
        "- class Any_Name\n",
        "- class Other(Any_Name)"
      ]
    },
    {
      "cell_type": "code",
      "metadata": {
        "id": "riUGHV3wqyFL"
      },
      "source": [
        "#example - пример\n",
        "class AnyName:\n",
        "  def method_1(self):\n",
        "    self.currency = 'usd'\n",
        "  \n",
        "  def method_2(self):\n",
        "    print(self.currency)"
      ],
      "execution_count": null,
      "outputs": []
    },
    {
      "cell_type": "code",
      "metadata": {
        "id": "Tbux5jrhrgQA"
      },
      "source": [
        "a = AnyName()\n",
        "a.metod_1()\n",
        "a.metod_2()"
      ],
      "execution_count": null,
      "outputs": []
    },
    {
      "cell_type": "markdown",
      "metadata": {
        "id": "ZP-7Ku5VrN1i"
      },
      "source": [
        "РЕКОМЕНДУЕТСЯ НАЗВАНИЯ КЛАССОВ ПИСАТЬ С БОЛЬШОЙ БУКВЫ, а названия методов внутри класса с маленькой."
      ]
    },
    {
      "cell_type": "code",
      "metadata": {
        "colab": {
          "base_uri": "https://localhost:8080/",
          "height": 299
        },
        "id": "MFs4PdMlfb3U",
        "outputId": "62bcc61a-9c76-48fa-fa67-d64ed3621551"
      },
      "source": [
        "from libs.exchange import Rate"
      ],
      "execution_count": null,
      "outputs": [
        {
          "output_type": "error",
          "ename": "ModuleNotFoundError",
          "evalue": "ignored",
          "traceback": [
            "\u001b[0;31m---------------------------------------------------------------------------\u001b[0m",
            "\u001b[0;31mModuleNotFoundError\u001b[0m                       Traceback (most recent call last)",
            "\u001b[0;32m<ipython-input-1-d5c33db8df67>\u001b[0m in \u001b[0;36m<module>\u001b[0;34m()\u001b[0m\n\u001b[0;32m----> 1\u001b[0;31m \u001b[0;32mfrom\u001b[0m \u001b[0mlibs\u001b[0m\u001b[0;34m.\u001b[0m\u001b[0mexchange\u001b[0m \u001b[0;32mimport\u001b[0m \u001b[0mRate\u001b[0m\u001b[0;34m\u001b[0m\u001b[0;34m\u001b[0m\u001b[0m\n\u001b[0m",
            "\u001b[0;31mModuleNotFoundError\u001b[0m: No module named 'libs'",
            "",
            "\u001b[0;31m---------------------------------------------------------------------------\u001b[0;32m\nNOTE: If your import is failing due to a missing package, you can\nmanually install dependencies using either !pip or !apt.\n\nTo view examples of installing some common dependencies, click the\n\"Open Examples\" button below.\n\u001b[0;31m---------------------------------------------------------------------------\u001b[0m\n"
          ]
        }
      ]
    },
    {
      "cell_type": "code",
      "metadata": {
        "id": "-v0iBZ2Ufb3U"
      },
      "source": [
        "Rate().usd()"
      ],
      "execution_count": null,
      "outputs": []
    },
    {
      "cell_type": "code",
      "metadata": {
        "scrolled": true,
        "id": "wtfpgyQ4fb3V"
      },
      "source": [
        "Rate('full').AZN()"
      ],
      "execution_count": null,
      "outputs": []
    },
    {
      "cell_type": "markdown",
      "metadata": {
        "id": "I0IHefxdfb3V"
      },
      "source": [
        "### Задача\n",
        "Дана строка со значениями, которые разделены запятыми:"
      ]
    },
    {
      "cell_type": "code",
      "metadata": {
        "id": "2_H5sZOlfb3V"
      },
      "source": [
        "line = '2019-07-01,organic,4293'"
      ],
      "execution_count": null,
      "outputs": []
    },
    {
      "cell_type": "markdown",
      "metadata": {
        "id": "OITxCk4Jfb3W"
      },
      "source": [
        "Напишите функцию column_count, которая возвращает число столбцов в такой строке"
      ]
    },
    {
      "cell_type": "code",
      "metadata": {
        "id": "TXAOG7qGfb3W",
        "outputId": "27836904-d1a3-430c-ecb7-900ed0d606e3"
      },
      "source": [
        "len('2019-07-01,organic,4293'.split(','))"
      ],
      "execution_count": null,
      "outputs": [
        {
          "output_type": "execute_result",
          "data": {
            "text/plain": [
              "3"
            ]
          },
          "metadata": {
            "tags": []
          },
          "execution_count": 3
        }
      ]
    },
    {
      "cell_type": "code",
      "metadata": {
        "id": "y1H8Wm7Ufb3X"
      },
      "source": [
        "def line_count(line, count_empty_lines=True, sep=','):\n",
        "    if count_empty_lines:\n",
        "        return len(line.split(sep))\n",
        "    else:\n",
        "        if line:\n",
        "            return len(line.split(sep))\n",
        "        else:\n",
        "            return 0"
      ],
      "execution_count": null,
      "outputs": []
    },
    {
      "cell_type": "code",
      "metadata": {
        "id": "BDGR-MUdfb3X",
        "outputId": "a15f39c6-9fef-4110-8d20-ac570e37bc50"
      },
      "source": [
        "line_count(line)"
      ],
      "execution_count": null,
      "outputs": [
        {
          "output_type": "execute_result",
          "data": {
            "text/plain": [
              "3"
            ]
          },
          "metadata": {
            "tags": []
          },
          "execution_count": 10
        }
      ]
    },
    {
      "cell_type": "code",
      "metadata": {
        "id": "eK8Juldwfb3X",
        "outputId": "aa0a81f0-a8c6-4088-9262-2fb1f2750a8c"
      },
      "source": [
        "line_count('2019-07-01')"
      ],
      "execution_count": null,
      "outputs": [
        {
          "output_type": "execute_result",
          "data": {
            "text/plain": [
              "1"
            ]
          },
          "metadata": {
            "tags": []
          },
          "execution_count": 11
        }
      ]
    },
    {
      "cell_type": "code",
      "metadata": {
        "id": "zyAbI9_rfb3Y",
        "outputId": "5db0ba9d-8930-4508-c236-c624cbae6e8c"
      },
      "source": [
        "line_count('', count_empty_lines=False)"
      ],
      "execution_count": null,
      "outputs": [
        {
          "output_type": "execute_result",
          "data": {
            "text/plain": [
              "0"
            ]
          },
          "metadata": {
            "tags": []
          },
          "execution_count": 13
        }
      ]
    },
    {
      "cell_type": "markdown",
      "metadata": {
        "id": "nUSRvpTnfb3Y"
      },
      "source": [
        "# Классы\n",
        "Пример использования переменной в разных методах"
      ]
    },
    {
      "cell_type": "code",
      "metadata": {
        "id": "GQC4Lx_9fb3Y"
      },
      "source": [
        "class AnyName:\n",
        "    def method_1(self): #Можно использовать любое название, но исторически сложилось что переменную называют self\n",
        "        self.currency = 'usd'\n",
        "    \n",
        "    def method_2(self):\n",
        "        print(self.currency)"
      ],
      "execution_count": null,
      "outputs": []
    },
    {
      "cell_type": "code",
      "metadata": {
        "id": "kPLpBmT8fb3Y"
      },
      "source": [
        "a = AnyName()"
      ],
      "execution_count": null,
      "outputs": []
    },
    {
      "cell_type": "code",
      "metadata": {
        "id": "SBDx0w5hfb3Z"
      },
      "source": [
        "from datetime import datetime"
      ],
      "execution_count": null,
      "outputs": []
    },
    {
      "cell_type": "code",
      "metadata": {
        "id": "5DiBnLW2fb3Z"
      },
      "source": [
        "datetime.strptime"
      ],
      "execution_count": null,
      "outputs": []
    },
    {
      "cell_type": "code",
      "metadata": {
        "id": "S0wZEMW-fb3Z"
      },
      "source": [
        "a.method_1()"
      ],
      "execution_count": null,
      "outputs": []
    },
    {
      "cell_type": "code",
      "metadata": {
        "id": "0jDzETKgfb3Z",
        "outputId": "b9985560-43e6-4ea4-dd90-cac1cce0041e"
      },
      "source": [
        "a.currency"
      ],
      "execution_count": null,
      "outputs": [
        {
          "output_type": "execute_result",
          "data": {
            "text/plain": [
              "'usd'"
            ]
          },
          "metadata": {
            "tags": []
          },
          "execution_count": 17
        }
      ]
    },
    {
      "cell_type": "code",
      "metadata": {
        "id": "0FxYACDnfb3a"
      },
      "source": [
        "b."
      ],
      "execution_count": null,
      "outputs": []
    },
    {
      "cell_type": "code",
      "metadata": {
        "id": "5RcHaRtrfb3a"
      },
      "source": [
        "b = AnyName()"
      ],
      "execution_count": null,
      "outputs": []
    },
    {
      "cell_type": "code",
      "metadata": {
        "id": "xrCLFtWqfb3a",
        "outputId": "fb73e2ce-f35e-4cf7-b254-3e6ff4503cf6"
      },
      "source": [
        "b.method_2()"
      ],
      "execution_count": null,
      "outputs": [
        {
          "output_type": "error",
          "ename": "AttributeError",
          "evalue": "'AnyName' object has no attribute 'currency'",
          "traceback": [
            "\u001b[0;31m---------------------------------------------------------------------------\u001b[0m",
            "\u001b[0;31mAttributeError\u001b[0m                            Traceback (most recent call last)",
            "\u001b[0;32m<ipython-input-23-59f1720a6a7b>\u001b[0m in \u001b[0;36m<module>\u001b[0;34m\u001b[0m\n\u001b[0;32m----> 1\u001b[0;31m \u001b[0mb\u001b[0m\u001b[0;34m.\u001b[0m\u001b[0mmethod_2\u001b[0m\u001b[0;34m(\u001b[0m\u001b[0;34m)\u001b[0m\u001b[0;34m\u001b[0m\u001b[0m\n\u001b[0m",
            "\u001b[0;32m<ipython-input-14-9c2240d258f9>\u001b[0m in \u001b[0;36mmethod_2\u001b[0;34m(self)\u001b[0m\n\u001b[1;32m      4\u001b[0m \u001b[0;34m\u001b[0m\u001b[0m\n\u001b[1;32m      5\u001b[0m     \u001b[0;32mdef\u001b[0m \u001b[0mmethod_2\u001b[0m\u001b[0;34m(\u001b[0m\u001b[0mself\u001b[0m\u001b[0;34m)\u001b[0m\u001b[0;34m:\u001b[0m\u001b[0;34m\u001b[0m\u001b[0m\n\u001b[0;32m----> 6\u001b[0;31m         \u001b[0mprint\u001b[0m\u001b[0;34m(\u001b[0m\u001b[0mself\u001b[0m\u001b[0;34m.\u001b[0m\u001b[0mcurrency\u001b[0m\u001b[0;34m)\u001b[0m\u001b[0;34m\u001b[0m\u001b[0m\n\u001b[0m",
            "\u001b[0;31mAttributeError\u001b[0m: 'AnyName' object has no attribute 'currency'"
          ]
        }
      ]
    },
    {
      "cell_type": "code",
      "metadata": {
        "id": "jIJqZCokfb3a",
        "outputId": "68fc3301-48f8-45f5-9fc2-f4402d2e988a"
      },
      "source": [
        "a.currency"
      ],
      "execution_count": null,
      "outputs": [
        {
          "output_type": "execute_result",
          "data": {
            "text/plain": [
              "'usd'"
            ]
          },
          "metadata": {
            "tags": []
          },
          "execution_count": 20
        }
      ]
    },
    {
      "cell_type": "code",
      "metadata": {
        "id": "pFxC29Orfb3b",
        "outputId": "a0d8cb27-ca52-471a-8c0b-92e9f11630b7"
      },
      "source": [
        "a.method_2()"
      ],
      "execution_count": null,
      "outputs": [
        {
          "output_type": "stream",
          "text": [
            "usd\n"
          ],
          "name": "stdout"
        }
      ]
    },
    {
      "cell_type": "markdown",
      "metadata": {
        "id": "BttR3iMYfb3b"
      },
      "source": [
        "### Метод __init__"
      ]
    },
    {
      "cell_type": "code",
      "metadata": {
        "id": "vHBHwhtRfb3b"
      },
      "source": [
        "# метод __init__ выполняется при вызове класса\n",
        "\n",
        "class Rate:\n",
        "    def __init__(self):\n",
        "        self.format = 'value'\n",
        "        print(self.format)"
      ],
      "execution_count": null,
      "outputs": []
    },
    {
      "cell_type": "code",
      "metadata": {
        "scrolled": true,
        "id": "WOWFJr2ifb3b",
        "outputId": "b9c36a99-2969-474a-dd87-3f856a5371ba"
      },
      "source": [
        "r = Rate()"
      ],
      "execution_count": null,
      "outputs": [
        {
          "output_type": "stream",
          "text": [
            "value\n"
          ],
          "name": "stdout"
        }
      ]
    },
    {
      "cell_type": "code",
      "metadata": {
        "id": "01PQ3iBxfb3b",
        "outputId": "91a6c2ea-ef6f-4d24-ed46-ba1aeb198edc"
      },
      "source": [
        "r.format"
      ],
      "execution_count": null,
      "outputs": [
        {
          "output_type": "execute_result",
          "data": {
            "text/plain": [
              "'value'"
            ]
          },
          "metadata": {
            "tags": []
          },
          "execution_count": 26
        }
      ]
    },
    {
      "cell_type": "markdown",
      "metadata": {
        "id": "ATt9HM9ufb3c"
      },
      "source": [
        "### Класс для курсов валют"
      ]
    },
    {
      "cell_type": "code",
      "metadata": {
        "id": "lEpN4DErfb3c"
      },
      "source": [
        "class Rate:\n",
        "    def __init__(self):\n",
        "        self.format = 'value'\n",
        "    \n",
        "    def show_current_format(self):\n",
        "        return self.format"
      ],
      "execution_count": null,
      "outputs": []
    },
    {
      "cell_type": "code",
      "metadata": {
        "id": "p8AcafmMfb3c"
      },
      "source": [
        "r = Rate()"
      ],
      "execution_count": null,
      "outputs": []
    },
    {
      "cell_type": "code",
      "metadata": {
        "id": "6ghZEHdvfb3c",
        "outputId": "ad55649f-3c63-448d-81b2-d146bc6232ee"
      },
      "source": [
        "r.show_current_format()"
      ],
      "execution_count": null,
      "outputs": [
        {
          "output_type": "execute_result",
          "data": {
            "text/plain": [
              "'value'"
            ]
          },
          "metadata": {
            "tags": []
          },
          "execution_count": 29
        }
      ]
    },
    {
      "cell_type": "markdown",
      "metadata": {
        "id": "zhzmykYHfb3c"
      },
      "source": [
        "Пример инициализации со значением переменной"
      ]
    },
    {
      "cell_type": "code",
      "metadata": {
        "id": "SkeP8hnZfb3d"
      },
      "source": [
        "class Rate:\n",
        "    def __init__(self, format_):\n",
        "        self.format = format_\n",
        "    \n",
        "    def show_current_format(self):\n",
        "        return self.format"
      ],
      "execution_count": null,
      "outputs": []
    },
    {
      "cell_type": "code",
      "metadata": {
        "id": "Rbzw36jKfb3d"
      },
      "source": [
        "r = Rate(format_='value')"
      ],
      "execution_count": null,
      "outputs": []
    },
    {
      "cell_type": "code",
      "metadata": {
        "id": "TbG8zI28fb3d"
      },
      "source": [
        "r.show_current_format()"
      ],
      "execution_count": null,
      "outputs": []
    },
    {
      "cell_type": "markdown",
      "metadata": {
        "id": "k2JVw5B4fb3d"
      },
      "source": [
        "Или сразу со значением по умолчанию"
      ]
    },
    {
      "cell_type": "code",
      "metadata": {
        "id": "863VADPefb3d"
      },
      "source": [
        "class Rate:\n",
        "    def __init__(self, format_='value'):\n",
        "        self.format = format_\n",
        "    \n",
        "    def show_current_format(self):\n",
        "        return self.format"
      ],
      "execution_count": null,
      "outputs": []
    },
    {
      "cell_type": "code",
      "metadata": {
        "id": "uJEa0Pttfb3d",
        "outputId": "4fe37cc2-02b3-4179-8953-c0a4cf0377c6"
      },
      "source": [
        "r = Rate()\n",
        "r.show_current_format()"
      ],
      "execution_count": null,
      "outputs": [
        {
          "output_type": "execute_result",
          "data": {
            "text/plain": [
              "'value'"
            ]
          },
          "metadata": {
            "tags": []
          },
          "execution_count": 32
        }
      ]
    },
    {
      "cell_type": "code",
      "metadata": {
        "id": "7QP8ZoR0fb3e",
        "outputId": "a66d1272-ba18-4877-bc2b-83e387928b6e"
      },
      "source": [
        "r_full = Rate(format_='full')\n",
        "r_full.show_current_format()"
      ],
      "execution_count": null,
      "outputs": [
        {
          "output_type": "execute_result",
          "data": {
            "text/plain": [
              "'full'"
            ]
          },
          "metadata": {
            "tags": []
          },
          "execution_count": 33
        }
      ]
    },
    {
      "cell_type": "code",
      "metadata": {
        "id": "ub1HgYkJfb3e",
        "outputId": "bb7d5c7c-e698-43cf-eaae-8fa363afe727"
      },
      "source": [
        "r.format"
      ],
      "execution_count": null,
      "outputs": [
        {
          "output_type": "execute_result",
          "data": {
            "text/plain": [
              "'value'"
            ]
          },
          "metadata": {
            "tags": []
          },
          "execution_count": 34
        }
      ]
    },
    {
      "cell_type": "code",
      "metadata": {
        "id": "7GSUrumwfb3e",
        "outputId": "f9da1169-d9d7-4c01-b784-21e99414f8b4"
      },
      "source": [
        "# значения переменных класса можно менять\n",
        "\n",
        "r.format = 'full_123'\n",
        "r.show_current_format()"
      ],
      "execution_count": null,
      "outputs": [
        {
          "output_type": "execute_result",
          "data": {
            "text/plain": [
              "'full_123'"
            ]
          },
          "metadata": {
            "tags": []
          },
          "execution_count": 35
        }
      ]
    },
    {
      "cell_type": "markdown",
      "metadata": {
        "id": "Sxz-lK_3fb3e"
      },
      "source": [
        "### Задание\n",
        "Создайте класс сотрудника Employee. При инициализации класса задается имя сотрудника name и его текущая зарплата salary. Напишите следующие методы:\n",
        "1. Метод up, который увеличивает зарплату сотрудника на 100\n",
        "2. Метод print, который выводит на экран текущую зарплату сотрудника в формате \"Сотрудник Иван, зарплата 100\""
      ]
    },
    {
      "cell_type": "code",
      "metadata": {
        "id": "1Mcyc9-rfb3e"
      },
      "source": [
        "class Employee:\n",
        "    def __init__(self, name, salary):\n",
        "        self.name = name\n",
        "        self.salary = salary\n",
        "    \n",
        "    def up(self):\n",
        "        self.salary += 100\n",
        "    \n",
        "    def print_(self):\n",
        "        print('Сотрудник {}, зарплата {}'.format(self.name, self.salary))"
      ],
      "execution_count": null,
      "outputs": []
    },
    {
      "cell_type": "code",
      "metadata": {
        "id": "m9JiBahifb3f"
      },
      "source": [
        "ivan = Employee(name='Иван', salary=50)"
      ],
      "execution_count": null,
      "outputs": []
    },
    {
      "cell_type": "code",
      "metadata": {
        "id": "MFGulLoMfb3f",
        "outputId": "28271f49-e4a3-44e1-a8bb-2ef69ee1f9a8"
      },
      "source": [
        "ivan.salary"
      ],
      "execution_count": null,
      "outputs": [
        {
          "output_type": "execute_result",
          "data": {
            "text/plain": [
              "50"
            ]
          },
          "metadata": {
            "tags": []
          },
          "execution_count": 41
        }
      ]
    },
    {
      "cell_type": "code",
      "metadata": {
        "id": "hzV6XzNifb3f",
        "outputId": "d0703777-a43c-4661-8668-23daecd0613d"
      },
      "source": [
        "ivan.up()\n",
        "ivan.print_()"
      ],
      "execution_count": null,
      "outputs": [
        {
          "output_type": "stream",
          "text": [
            "Сотрудник Иван, зарплата 1350\n"
          ],
          "name": "stdout"
        }
      ]
    },
    {
      "cell_type": "code",
      "metadata": {
        "id": "PQZqYnNQfb3f"
      },
      "source": [
        "elena = Employee(name='Елена', salary=300)"
      ],
      "execution_count": null,
      "outputs": []
    },
    {
      "cell_type": "code",
      "metadata": {
        "id": "PWAMqAb6fb3f",
        "outputId": "4de20dfe-94a4-482a-dd57-5e4afb1291c6"
      },
      "source": [
        "elena.up()\n",
        "elena.print_()"
      ],
      "execution_count": null,
      "outputs": [
        {
          "output_type": "stream",
          "text": [
            "Сотрудник Елена, зарплата 1000\n"
          ],
          "name": "stdout"
        }
      ]
    },
    {
      "cell_type": "markdown",
      "metadata": {
        "id": "z-X8bD_5fb3g"
      },
      "source": [
        "### Полная версия класса"
      ]
    },
    {
      "cell_type": "code",
      "metadata": {
        "id": "qvuRerh1fb3g"
      },
      "source": [
        "import requests"
      ],
      "execution_count": null,
      "outputs": []
    },
    {
      "cell_type": "code",
      "metadata": {
        "id": "WPGDjwgZfb3g"
      },
      "source": [
        "class Rate:\n",
        "    def __init__(self, format_='value'):\n",
        "        self.format = format_\n",
        "    \n",
        "    def exchange_rates(self):\n",
        "        \"\"\"\n",
        "        Возвращает ответ сервиса с информацией о валютах в виде:\n",
        "        \n",
        "        {\n",
        "            'AMD': {\n",
        "                'CharCode': 'AMD',\n",
        "                'ID': 'R01060',\n",
        "                'Name': 'Армянских драмов',\n",
        "                'Nominal': 100,\n",
        "                'NumCode': '051',\n",
        "                'Previous': 14.103,\n",
        "                'Value': 14.0879\n",
        "                },\n",
        "            ...\n",
        "        }\n",
        "        \"\"\"\n",
        "        self.r = requests.get('https://www.cbr-xml-daily.ru/daily_json.js')\n",
        "        return self.r.json()['Valute']\n",
        "    \n",
        "    def make_format(self, currency):\n",
        "        \"\"\"\n",
        "        Возвращает информацию о валюте currency в двух вариантах:\n",
        "        - полная информация о валюте при self.format = 'full':\n",
        "        Rate('full').make_format('EUR')\n",
        "        {\n",
        "            'CharCode': 'EUR',\n",
        "            'ID': 'R01239',\n",
        "            'Name': 'Евро',\n",
        "            'Nominal': 1,\n",
        "            'NumCode': '978',\n",
        "            'Previous': 79.6765,\n",
        "            'Value': 79.4966\n",
        "        }\n",
        "        \n",
        "        Rate('value').make_format('EUR')\n",
        "        79.4966\n",
        "        \"\"\"\n",
        "        response = self.exchange_rates()\n",
        "        \n",
        "        if currency in response:\n",
        "            if self.format == 'full':\n",
        "                return response[currency]\n",
        "            \n",
        "            if self.format == 'value':\n",
        "                return response[currency]['Value']\n",
        "        \n",
        "        return 'Error'\n",
        "    \n",
        "    def eur(self):\n",
        "        \"\"\"Возвращает курс евро на сегодня в формате self.format\"\"\"\n",
        "        return self.make_format('EUR')\n",
        "    \n",
        "    def usd(self):\n",
        "        \"\"\"Возвращает курс доллара на сегодня в формате self.format\"\"\"\n",
        "        return self.make_format('USD')\n",
        "    \n",
        "    def brl(self):\n",
        "        \"\"\"Возвращает курс бразильского реала на сегодня в формате self.format\"\"\"\n",
        "        return self.make_format('BRL')"
      ],
      "execution_count": null,
      "outputs": []
    },
    {
      "cell_type": "code",
      "metadata": {
        "id": "DxmmvY4Rfb3h"
      },
      "source": [
        "r = Rate(format_='full')"
      ],
      "execution_count": null,
      "outputs": []
    },
    {
      "cell_type": "code",
      "metadata": {
        "id": "9lfjtWIRfb3h",
        "outputId": "a984ab84-fad1-4eef-950c-15ef00d3f235"
      },
      "source": [
        "r.exchange_rates()"
      ],
      "execution_count": null,
      "outputs": [
        {
          "output_type": "execute_result",
          "data": {
            "text/plain": [
              "{'AUD': {'ID': 'R01010',\n",
              "  'NumCode': '036',\n",
              "  'CharCode': 'AUD',\n",
              "  'Nominal': 1,\n",
              "  'Name': 'Австралийский доллар',\n",
              "  'Value': 47.7337,\n",
              "  'Previous': 47.8415},\n",
              " 'AZN': {'ID': 'R01020A',\n",
              "  'NumCode': '944',\n",
              "  'CharCode': 'AZN',\n",
              "  'Nominal': 1,\n",
              "  'Name': 'Азербайджанский манат',\n",
              "  'Value': 40.9491,\n",
              "  'Previous': 40.9759},\n",
              " 'GBP': {'ID': 'R01035',\n",
              "  'NumCode': '826',\n",
              "  'CharCode': 'GBP',\n",
              "  'Nominal': 1,\n",
              "  'Name': 'Фунт стерлингов Соединенного королевства',\n",
              "  'Value': 86.3951,\n",
              "  'Previous': 87.1687},\n",
              " 'AMD': {'ID': 'R01060',\n",
              "  'NumCode': '051',\n",
              "  'CharCode': 'AMD',\n",
              "  'Nominal': 100,\n",
              "  'Name': 'Армянских драмов',\n",
              "  'Value': 14.4762,\n",
              "  'Previous': 14.4436},\n",
              " 'BYN': {'ID': 'R01090B',\n",
              "  'NumCode': '933',\n",
              "  'CharCode': 'BYN',\n",
              "  'Nominal': 1,\n",
              "  'Name': 'Белорусский рубль',\n",
              "  'Value': 29.2617,\n",
              "  'Previous': 29.212},\n",
              " 'BGN': {'ID': 'R01100',\n",
              "  'NumCode': '975',\n",
              "  'CharCode': 'BGN',\n",
              "  'Nominal': 1,\n",
              "  'Name': 'Болгарский лев',\n",
              "  'Value': 39.8833,\n",
              "  'Previous': 40.0034},\n",
              " 'BRL': {'ID': 'R01115',\n",
              "  'NumCode': '986',\n",
              "  'CharCode': 'BRL',\n",
              "  'Nominal': 1,\n",
              "  'Name': 'Бразильский реал',\n",
              "  'Value': 12.9365,\n",
              "  'Previous': 13.3136},\n",
              " 'HUF': {'ID': 'R01135',\n",
              "  'NumCode': '348',\n",
              "  'CharCode': 'HUF',\n",
              "  'Nominal': 100,\n",
              "  'Name': 'Венгерских форинтов',\n",
              "  'Value': 22.5376,\n",
              "  'Previous': 22.6802},\n",
              " 'HKD': {'ID': 'R01200',\n",
              "  'NumCode': '344',\n",
              "  'CharCode': 'HKD',\n",
              "  'Nominal': 10,\n",
              "  'Name': 'Гонконгских долларов',\n",
              "  'Value': 89.7663,\n",
              "  'Previous': 89.8262},\n",
              " 'DKK': {'ID': 'R01215',\n",
              "  'NumCode': '208',\n",
              "  'CharCode': 'DKK',\n",
              "  'Nominal': 1,\n",
              "  'Name': 'Датская крона',\n",
              "  'Value': 10.4633,\n",
              "  'Previous': 10.4959},\n",
              " 'USD': {'ID': 'R01235',\n",
              "  'NumCode': '840',\n",
              "  'CharCode': 'USD',\n",
              "  'Nominal': 1,\n",
              "  'Name': 'Доллар США',\n",
              "  'Value': 69.5725,\n",
              "  'Previous': 69.618},\n",
              " 'EUR': {'ID': 'R01239',\n",
              "  'NumCode': '978',\n",
              "  'CharCode': 'EUR',\n",
              "  'Nominal': 1,\n",
              "  'Name': 'Евро',\n",
              "  'Value': 78.0047,\n",
              "  'Previous': 78.2924},\n",
              " 'INR': {'ID': 'R01270',\n",
              "  'NumCode': '356',\n",
              "  'CharCode': 'INR',\n",
              "  'Nominal': 100,\n",
              "  'Name': 'Индийских рупий',\n",
              "  'Value': 91.3115,\n",
              "  'Previous': 91.4391},\n",
              " 'KZT': {'ID': 'R01335',\n",
              "  'NumCode': '398',\n",
              "  'CharCode': 'KZT',\n",
              "  'Nominal': 100,\n",
              "  'Name': 'Казахстанских тенге',\n",
              "  'Value': 17.225,\n",
              "  'Previous': 17.164},\n",
              " 'CAD': {'ID': 'R01350',\n",
              "  'NumCode': '124',\n",
              "  'CharCode': 'CAD',\n",
              "  'Nominal': 1,\n",
              "  'Name': 'Канадский доллар',\n",
              "  'Value': 51.209,\n",
              "  'Previous': 51.3748},\n",
              " 'KGS': {'ID': 'R01370',\n",
              "  'NumCode': '417',\n",
              "  'CharCode': 'KGS',\n",
              "  'Nominal': 100,\n",
              "  'Name': 'Киргизских сомов',\n",
              "  'Value': 92.8919,\n",
              "  'Previous': 93.1286},\n",
              " 'CNY': {'ID': 'R01375',\n",
              "  'NumCode': '156',\n",
              "  'CharCode': 'CNY',\n",
              "  'Nominal': 10,\n",
              "  'Name': 'Китайских юаней',\n",
              "  'Value': 98.2898,\n",
              "  'Previous': 98.3166},\n",
              " 'MDL': {'ID': 'R01500',\n",
              "  'NumCode': '498',\n",
              "  'CharCode': 'MDL',\n",
              "  'Nominal': 10,\n",
              "  'Name': 'Молдавских леев',\n",
              "  'Value': 40.3319,\n",
              "  'Previous': 40.3583},\n",
              " 'NOK': {'ID': 'R01535',\n",
              "  'NumCode': '578',\n",
              "  'CharCode': 'NOK',\n",
              "  'Nominal': 10,\n",
              "  'Name': 'Норвежских крон',\n",
              "  'Value': 73.0458,\n",
              "  'Previous': 73.5174},\n",
              " 'PLN': {'ID': 'R01565',\n",
              "  'NumCode': '985',\n",
              "  'CharCode': 'PLN',\n",
              "  'Nominal': 1,\n",
              "  'Name': 'Польский злотый',\n",
              "  'Value': 17.5285,\n",
              "  'Previous': 17.5272},\n",
              " 'RON': {'ID': 'R01585F',\n",
              "  'NumCode': '946',\n",
              "  'CharCode': 'RON',\n",
              "  'Nominal': 1,\n",
              "  'Name': 'Румынский лей',\n",
              "  'Value': 16.1077,\n",
              "  'Previous': 16.1759},\n",
              " 'XDR': {'ID': 'R01589',\n",
              "  'NumCode': '960',\n",
              "  'CharCode': 'XDR',\n",
              "  'Nominal': 1,\n",
              "  'Name': 'СДР (специальные права заимствования)',\n",
              "  'Value': 96.0372,\n",
              "  'Previous': 96.0631},\n",
              " 'SGD': {'ID': 'R01625',\n",
              "  'NumCode': '702',\n",
              "  'CharCode': 'SGD',\n",
              "  'Nominal': 1,\n",
              "  'Name': 'Сингапурский доллар',\n",
              "  'Value': 49.9121,\n",
              "  'Previous': 49.9986},\n",
              " 'TJS': {'ID': 'R01670',\n",
              "  'NumCode': '972',\n",
              "  'CharCode': 'TJS',\n",
              "  'Nominal': 10,\n",
              "  'Name': 'Таджикских сомони',\n",
              "  'Value': 67.497,\n",
              "  'Previous': 67.5411},\n",
              " 'TRY': {'ID': 'R01700J',\n",
              "  'NumCode': '949',\n",
              "  'CharCode': 'TRY',\n",
              "  'Nominal': 1,\n",
              "  'Name': 'Турецкая лира',\n",
              "  'Value': 10.1447,\n",
              "  'Previous': 10.1519},\n",
              " 'TMT': {'ID': 'R01710A',\n",
              "  'NumCode': '934',\n",
              "  'CharCode': 'TMT',\n",
              "  'Nominal': 1,\n",
              "  'Name': 'Новый туркменский манат',\n",
              "  'Value': 19.9063,\n",
              "  'Previous': 19.9193},\n",
              " 'UZS': {'ID': 'R01717',\n",
              "  'NumCode': '860',\n",
              "  'CharCode': 'UZS',\n",
              "  'Nominal': 10000,\n",
              "  'Name': 'Узбекских сумов',\n",
              "  'Value': 68.4095,\n",
              "  'Previous': 68.3803},\n",
              " 'UAH': {'ID': 'R01720',\n",
              "  'NumCode': '980',\n",
              "  'CharCode': 'UAH',\n",
              "  'Nominal': 10,\n",
              "  'Name': 'Украинских гривен',\n",
              "  'Value': 26.029,\n",
              "  'Previous': 25.9925},\n",
              " 'CZK': {'ID': 'R01760',\n",
              "  'NumCode': '203',\n",
              "  'CharCode': 'CZK',\n",
              "  'Nominal': 10,\n",
              "  'Name': 'Чешских крон',\n",
              "  'Value': 29.2469,\n",
              "  'Previous': 29.4206},\n",
              " 'SEK': {'ID': 'R01770',\n",
              "  'NumCode': '752',\n",
              "  'CharCode': 'SEK',\n",
              "  'Nominal': 10,\n",
              "  'Name': 'Шведских крон',\n",
              "  'Value': 73.9299,\n",
              "  'Previous': 74.5598},\n",
              " 'CHF': {'ID': 'R01775',\n",
              "  'NumCode': '756',\n",
              "  'CharCode': 'CHF',\n",
              "  'Nominal': 1,\n",
              "  'Name': 'Швейцарский франк',\n",
              "  'Value': 73.2034,\n",
              "  'Previous': 73.3439},\n",
              " 'ZAR': {'ID': 'R01810',\n",
              "  'NumCode': '710',\n",
              "  'CharCode': 'ZAR',\n",
              "  'Nominal': 10,\n",
              "  'Name': 'Южноафриканских рэндов',\n",
              "  'Value': 39.9679,\n",
              "  'Previous': 40.422},\n",
              " 'KRW': {'ID': 'R01815',\n",
              "  'NumCode': '410',\n",
              "  'CharCode': 'KRW',\n",
              "  'Nominal': 1000,\n",
              "  'Name': 'Вон Республики Корея',\n",
              "  'Value': 57.5869,\n",
              "  'Previous': 57.5294},\n",
              " 'JPY': {'ID': 'R01820',\n",
              "  'NumCode': '392',\n",
              "  'CharCode': 'JPY',\n",
              "  'Nominal': 100,\n",
              "  'Name': 'Японских иен',\n",
              "  'Value': 65.0545,\n",
              "  'Previous': 65.0666}}"
            ]
          },
          "metadata": {
            "tags": []
          },
          "execution_count": 78
        }
      ]
    },
    {
      "cell_type": "code",
      "metadata": {
        "scrolled": true,
        "id": "Lu7geXSEfb3h",
        "outputId": "909c1b2b-dbb7-4cec-963f-c4bb3767d244"
      },
      "source": [
        "r.usd()"
      ],
      "execution_count": null,
      "outputs": [
        {
          "output_type": "execute_result",
          "data": {
            "text/plain": [
              "{'ID': 'R01235',\n",
              " 'NumCode': '840',\n",
              " 'CharCode': 'USD',\n",
              " 'Nominal': 1,\n",
              " 'Name': 'Доллар США',\n",
              " 'Value': 69.5725,\n",
              " 'Previous': 69.618}"
            ]
          },
          "metadata": {
            "tags": []
          },
          "execution_count": 79
        }
      ]
    },
    {
      "cell_type": "code",
      "metadata": {
        "id": "BHgYOj9xfb3h"
      },
      "source": [
        "r = Rate()"
      ],
      "execution_count": null,
      "outputs": []
    },
    {
      "cell_type": "code",
      "metadata": {
        "id": "HA4k_Ep_fb3i",
        "outputId": "b3206c08-7c47-43a7-8cf6-fd08b3aa6ad9"
      },
      "source": [
        "r.usd()"
      ],
      "execution_count": null,
      "outputs": [
        {
          "output_type": "execute_result",
          "data": {
            "text/plain": [
              "69.5725"
            ]
          },
          "metadata": {
            "tags": []
          },
          "execution_count": 81
        }
      ]
    },
    {
      "cell_type": "code",
      "metadata": {
        "id": "dL3hrdILfb3i"
      },
      "source": [
        "r.exchange_rates()"
      ],
      "execution_count": null,
      "outputs": []
    },
    {
      "cell_type": "markdown",
      "metadata": {
        "id": "pFDeOkVrfb3i"
      },
      "source": [
        "Документация необходима почти всем методам"
      ]
    },
    {
      "cell_type": "code",
      "metadata": {
        "id": "lpkOoEWOfb3i"
      },
      "source": [
        "?r.exchange_rates"
      ],
      "execution_count": null,
      "outputs": []
    },
    {
      "cell_type": "markdown",
      "metadata": {
        "id": "2kvkzB6Lfb3i"
      },
      "source": [
        "# Наследование"
      ]
    },
    {
      "cell_type": "markdown",
      "metadata": {
        "id": "4cz1OQgBfb3i"
      },
      "source": [
        "Разработчикам финансового департамента помимо курса надо работать с кодами валют. Как сохранить сохранить разработку класса Rate у нас, а полезные функции передать финансистам?"
      ]
    },
    {
      "cell_type": "code",
      "metadata": {
        "id": "xCukD_xLfb3j"
      },
      "source": [
        "class CurrencyCodes(Rate):\n",
        "    def __init__(self):\n",
        "        super().__init__(format_='full')"
      ],
      "execution_count": null,
      "outputs": []
    },
    {
      "cell_type": "markdown",
      "metadata": {
        "id": "oMDcX11Ufb3j"
      },
      "source": [
        "Теперь классу CurrencyCodes доступны все методы класса Rate. Можем продолжать разработку в нужном направлении."
      ]
    },
    {
      "cell_type": "code",
      "metadata": {
        "id": "3vXKy5XGfb3j"
      },
      "source": [
        "cc = CurrencyCodes()"
      ],
      "execution_count": null,
      "outputs": []
    },
    {
      "cell_type": "code",
      "metadata": {
        "id": "eJj98H5ofb3j",
        "outputId": "0499f9a0-ea7b-4c5f-d54e-efb56897e29f"
      },
      "source": [
        "CurrencyCodes().usd()"
      ],
      "execution_count": null,
      "outputs": [
        {
          "output_type": "execute_result",
          "data": {
            "text/plain": [
              "{'ID': 'R01235',\n",
              " 'NumCode': '840',\n",
              " 'CharCode': 'USD',\n",
              " 'Nominal': 1,\n",
              " 'Name': 'Доллар США',\n",
              " 'Value': 69.5725,\n",
              " 'Previous': 69.618}"
            ]
          },
          "metadata": {
            "tags": []
          },
          "execution_count": 85
        }
      ]
    },
    {
      "cell_type": "markdown",
      "metadata": {
        "id": "VElB_SVlfb3j"
      },
      "source": [
        "Допишем в класс что-нибудь свое новенькое"
      ]
    },
    {
      "cell_type": "code",
      "metadata": {
        "id": "EnWm_Jj8fb3j"
      },
      "source": [
        "class CurrencyCodes(Rate):\n",
        "    def __init__(self):\n",
        "        super().__init__(format_='full')\n",
        "    \n",
        "    def currency_id(self, currency):\n",
        "        \"\"\"Получение идентификатора валюты\"\"\"\n",
        "        return self.make_format(currency)['ID']"
      ],
      "execution_count": null,
      "outputs": []
    },
    {
      "cell_type": "code",
      "metadata": {
        "id": "KSUdBRM3fb3k"
      },
      "source": [
        "currency = CurrencyCodes()"
      ],
      "execution_count": null,
      "outputs": []
    },
    {
      "cell_type": "code",
      "metadata": {
        "id": "6zjGUu8Yfb3k",
        "outputId": "d7c00856-2889-4228-e4d5-5fb7cb2b5d93"
      },
      "source": [
        "currency.currency_id('USD')"
      ],
      "execution_count": null,
      "outputs": [
        {
          "output_type": "execute_result",
          "data": {
            "text/plain": [
              "'R01235'"
            ]
          },
          "metadata": {
            "tags": []
          },
          "execution_count": 88
        }
      ]
    },
    {
      "cell_type": "markdown",
      "metadata": {
        "id": "3_p37ovlfb3k"
      },
      "source": [
        "# Система повышения сотрудников"
      ]
    },
    {
      "cell_type": "code",
      "metadata": {
        "id": "dpLUfYbkfb3k"
      },
      "source": [
        "class Employee:\n",
        "    def __init__(self, name, seniority):\n",
        "        self.name = name\n",
        "        self.seniority = seniority\n",
        "        \n",
        "        self.grade = 1\n",
        "    \n",
        "    def grade_up(self):\n",
        "        \"\"\"Повышает уровень сотрудника\"\"\"\n",
        "        self.grade += 1\n",
        "    \n",
        "    def publish_grade(self):\n",
        "        \"\"\"Публикация результатов аккредитации сотрудников\"\"\"\n",
        "        print(self.name, self.grade)\n",
        "    \n",
        "    def check_if_it_is_time_for_upgrade(self):\n",
        "        pass"
      ],
      "execution_count": null,
      "outputs": []
    },
    {
      "cell_type": "code",
      "metadata": {
        "id": "wRCsgJA5fb3k"
      },
      "source": [
        "class Developer(Employee): #Создалим классы для каждого подразделения наследуя базовый класс повышения.\n",
        "#В этом случае мы можем индивидуально настроить повышение для каждого отдела.\n",
        "    def __init__(self, name, seniority):\n",
        "        super().__init__(name, seniority)\n",
        "    \n",
        "    def check_if_it_is_time_for_upgrade(self):\n",
        "        # для каждой аккредитации увеличиваем счетчик на 1\n",
        "        # пока считаем, что все разработчики проходят аккредитацию\n",
        "        self.seniority += 1\n",
        "        \n",
        "        # условие повышения сотрудника из презентации\n",
        "        if self.seniority % 5 == 0:\n",
        "            self.grade_up()\n",
        "        \n",
        "        # публикация результатов\n",
        "        return self.publish_grade()"
      ],
      "execution_count": null,
      "outputs": []
    },
    {
      "cell_type": "code",
      "metadata": {
        "id": "c7g43Vz6fb3l"
      },
      "source": [
        "# проверяем как работает система повышения сотрудников на примере отдела разработки\n",
        "\n",
        "# разработчик Александр только что пришел в компанию\n",
        "alex = Developer('Александр', 0)"
      ],
      "execution_count": null,
      "outputs": []
    },
    {
      "cell_type": "code",
      "metadata": {
        "id": "7Qmezr3Sfb3l",
        "outputId": "acb939ce-1563-4cd6-fe2f-c65d66b42acb"
      },
      "source": [
        "for i in range(20):\n",
        "    alex.check_if_it_is_time_for_upgrade()"
      ],
      "execution_count": null,
      "outputs": [
        {
          "output_type": "stream",
          "text": [
            "Александр 1\n",
            "Александр 1\n",
            "Александр 1\n",
            "Александр 1\n",
            "Александр 2\n",
            "Александр 2\n",
            "Александр 2\n",
            "Александр 2\n",
            "Александр 2\n",
            "Александр 3\n",
            "Александр 3\n",
            "Александр 3\n",
            "Александр 3\n",
            "Александр 3\n",
            "Александр 4\n",
            "Александр 4\n",
            "Александр 4\n",
            "Александр 4\n",
            "Александр 4\n",
            "Александр 5\n"
          ],
          "name": "stdout"
        }
      ]
    },
    {
      "cell_type": "markdown",
      "metadata": {
        "id": "PF0BiPfNfb3l"
      },
      "source": [
        "# Импорт классов и функций"
      ]
    },
    {
      "cell_type": "code",
      "metadata": {
        "id": "mJn1lSfIfb3l"
      },
      "source": [
        "from libs.exchange import my_sum"
      ],
      "execution_count": null,
      "outputs": []
    },
    {
      "cell_type": "code",
      "metadata": {
        "id": "-ZkhrMcbfb3l",
        "outputId": "b5cfe47a-7431-49d9-ba8d-3b715792cdd4"
      },
      "source": [
        "my_sum(1, 2)"
      ],
      "execution_count": null,
      "outputs": [
        {
          "output_type": "execute_result",
          "data": {
            "text/plain": [
              "3"
            ]
          },
          "metadata": {
            "tags": []
          },
          "execution_count": 94
        }
      ]
    },
    {
      "cell_type": "code",
      "metadata": {
        "id": "sh9sujRmfb3l"
      },
      "source": [
        "from libs.exchange import Rate"
      ],
      "execution_count": null,
      "outputs": []
    },
    {
      "cell_type": "code",
      "metadata": {
        "id": "IKFlkD4tfb3m",
        "outputId": "8f46e019-fdd5-4220-d3b7-7c7b54de2700"
      },
      "source": [
        "Rate().AZN()"
      ],
      "execution_count": null,
      "outputs": [
        {
          "output_type": "execute_result",
          "data": {
            "text/plain": [
              "40.9491"
            ]
          },
          "metadata": {
            "tags": []
          },
          "execution_count": 96
        }
      ]
    },
    {
      "cell_type": "code",
      "metadata": {
        "id": "fzvdEmVFfb3m"
      },
      "source": [
        "# такой способ импорта крайне не рекомендуется\n",
        "from libs.exchange import *"
      ],
      "execution_count": null,
      "outputs": []
    },
    {
      "cell_type": "markdown",
      "metadata": {
        "id": "8dUi8QKbfb3m"
      },
      "source": [
        "Если библиотека лежит в произвольной папке"
      ]
    },
    {
      "cell_type": "code",
      "metadata": {
        "scrolled": true,
        "id": "RQ-EMyNZfb3m",
        "outputId": "5e8e20bc-f263-45ce-9132-b37a7235c5f6"
      },
      "source": [
        "import sys\n",
        "sys.path"
      ],
      "execution_count": null,
      "outputs": [
        {
          "output_type": "execute_result",
          "data": {
            "text/plain": [
              "['/Users/kbashevoy/Desktop/Нетология/Занятия/Записи/06. Классы в python',\n",
              " '/Users/kbashevoy/anaconda3/lib/python37.zip',\n",
              " '/Users/kbashevoy/anaconda3/lib/python3.7',\n",
              " '/Users/kbashevoy/anaconda3/lib/python3.7/lib-dynload',\n",
              " '',\n",
              " '/Users/kbashevoy/.local/lib/python3.7/site-packages',\n",
              " '/Users/kbashevoy/anaconda3/lib/python3.7/site-packages',\n",
              " '/Users/kbashevoy/anaconda3/lib/python3.7/site-packages/aeosa',\n",
              " '/Users/kbashevoy/anaconda3/lib/python3.7/site-packages/IPython/extensions',\n",
              " '/Users/kbashevoy/.ipython',\n",
              " '/Users/kbashevoy/Desktop/Нетология/Занятия/Записи/06. Классы в python/libs',\n",
              " 'адрес_папки_с_файлами',\n",
              " '/Users/kbashevoy/Desktop/Нетология/Занятия/Записи/06. Классы в python/libs']"
            ]
          },
          "metadata": {
            "tags": []
          },
          "execution_count": 97
        }
      ]
    },
    {
      "cell_type": "code",
      "metadata": {
        "id": "okpoRD0ffb3m"
      },
      "source": [
        "# пример добавления нужной папки к папкам по умолчанию.\n",
        "\n",
        "import sys\n",
        "sys.path.append('/Users/kbashevoy/Desktop/Нетология/Занятия/Записи/06. Классы в python/libs')"
      ],
      "execution_count": null,
      "outputs": []
    },
    {
      "cell_type": "code",
      "metadata": {
        "id": "ziksmZvifb3n"
      },
      "source": [
        "from exchange import my_sum"
      ],
      "execution_count": null,
      "outputs": []
    },
    {
      "cell_type": "code",
      "metadata": {
        "id": "JYjxAx7bfb3n",
        "outputId": "ee9bde9c-535f-424d-9977-c68e09af5e14"
      },
      "source": [
        "my_sum(3, 3)"
      ],
      "execution_count": null,
      "outputs": [
        {
          "output_type": "execute_result",
          "data": {
            "text/plain": [
              "6"
            ]
          },
          "metadata": {
            "tags": []
          },
          "execution_count": 100
        }
      ]
    }
  ]
}